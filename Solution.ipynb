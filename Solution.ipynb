{
 "cells": [
  {
   "cell_type": "code",
   "execution_count": 2,
   "metadata": {},
   "outputs": [
    {
     "name": "stderr",
     "output_type": "stream",
     "text": [
      "C:\\Users\\Pratyush\\Anaconda2\\lib\\site-packages\\sklearn\\cross_validation.py:41: DeprecationWarning: This module was deprecated in version 0.18 in favor of the model_selection module into which all the refactored classes and functions are moved. Also note that the interface of the new CV iterators are different from that of this module. This module will be removed in 0.20.\n",
      "  \"This module will be removed in 0.20.\", DeprecationWarning)\n",
      "C:\\Users\\Pratyush\\Anaconda2\\lib\\site-packages\\sklearn\\grid_search.py:42: DeprecationWarning: This module was deprecated in version 0.18 in favor of the model_selection module into which all the refactored classes and functions are moved. This module will be removed in 0.20.\n",
      "  DeprecationWarning)\n"
     ]
    }
   ],
   "source": [
    "import pandas as pd\n",
    "import json\n",
    "import numpy as np\n",
    "import matplotlib.pyplot as plt\n",
    "import numpy.linalg as la\n",
    "import itertools\n",
    "import xgboost as xgb\n",
    "from pandas import Series\n",
    "from sklearn.linear_model import LinearRegression\n",
    "from sklearn.linear_model import Ridge\n",
    "from sklearn.discriminant_analysis import LinearDiscriminantAnalysis\n",
    "from sklearn.cross_validation import *\n",
    "from sklearn.grid_search import GridSearchCV"
   ]
  },
  {
   "cell_type": "code",
   "execution_count": 6,
   "metadata": {},
   "outputs": [
    {
     "name": "stderr",
     "output_type": "stream",
     "text": [
      "C:\\Users\\Pratyush\\Anaconda2\\lib\\site-packages\\ipykernel_launcher.py:48: SettingWithCopyWarning: \n",
      "A value is trying to be set on a copy of a slice from a DataFrame\n",
      "\n",
      "See the caveats in the documentation: http://pandas.pydata.org/pandas-docs/stable/indexing.html#indexing-view-versus-copy\n"
     ]
    },
    {
     "name": "stdout",
     "output_type": "stream",
     "text": [
      "0\n",
      "[]\n"
     ]
    }
   ],
   "source": [
    "trainSet = pd.read_csv('data/SuperCleanMov.csv')\n",
    "##testSet \n",
    "\n",
    "y = trainSet['vote_average']\n",
    "\n",
    "trainSet['12'] = Series(0, index=trainSet.index)\n",
    "trainSet['878'] = Series(0, index=trainSet.index)\n",
    "trainSet['28'] = Series(0, index=trainSet.index)\n",
    "trainSet['18'] = Series(0, index=trainSet.index)\n",
    "trainSet['10751'] = Series(0, index=trainSet.index)\n",
    "trainSet['53'] = Series(0, index=trainSet.index)\n",
    "trainSet['35'] = Series(0, index=trainSet.index)\n",
    "trainSet['80'] = Series(0, index=trainSet.index)\n",
    "trainSet['9648'] = Series(0, index=trainSet.index)\n",
    "trainSet['14'] = Series(0, index=trainSet.index)\n",
    "trainSet['27'] = Series(0, index=trainSet.index)\n",
    "trainSet['10749'] = Series(0, index=trainSet.index)\n",
    "trainSet['99'] = Series(0, index=trainSet.index)\n",
    "trainSet['10402'] = Series(0, index=trainSet.index)\n",
    "trainSet['36'] = Series(0, index=trainSet.index)\n",
    "trainSet['10752'] = Series(0, index=trainSet.index)\n",
    "trainSet['16'] = Series(0, index=trainSet.index)\n",
    "trainSet['37'] = Series(0, index=trainSet.index)\n",
    "trainSet['10769'] = Series(0, index=trainSet.index)\n",
    "trainSet['10770'] = Series(0, index=trainSet.index)\n",
    "\n",
    "\n",
    "\n",
    "\n",
    "\n",
    "uniqueGenres = ['12', '878', '28', '18', '10751', '53', '35', '80', '9648', '14', '27', '10749', \n",
    "                '99', '10402', '36', '10752', '16', '37', '10769', '10770']\n",
    "\n",
    "genreInts = []\n",
    "count = 0\n",
    "\n",
    "##print type(trainSet['genres'])\n",
    "\n",
    "for j in trainSet['genres'].str.split(',').values:\n",
    "##    print trainSet['id'][count]\n",
    "    \n",
    "    for i in j:\n",
    "        for s in i.split():\n",
    "            for brac in s.split('}'):\n",
    "                if brac.isdigit():\n",
    "\n",
    "##                    if brac not in genreInts:\n",
    "                    trainSet[brac][count] = 1\n",
    "##                    print \"hello\"\n",
    "    count+=1\n",
    "##                        genreInts.append(brac)\n",
    "\n",
    "\n",
    "\n",
    "\n",
    "print len(genreInts)\n",
    "print genreInts\n",
    "        \n",
    "    \n",
    "    \n",
    "\n",
    "\n",
    "trainSet['belongs_to_collection'] = trainSet['belongs_to_collection'].fillna(0)\n",
    "##trainSet['genres'] = trainSet['genres'].apply(json.loads)\n",
    "trainSet = trainSet.drop(['imdb_id'], axis=1)\n",
    "trainSet = trainSet.drop(['overview'], axis=1)\n",
    "trainSet = trainSet.drop(['poster_path'], axis=1)\n",
    "trainSet = trainSet.drop(['backdrop_path'], axis=1)\n",
    "trainSet = trainSet.drop(['adult'], axis = 1)\n",
    "\n",
    "\n",
    "\n",
    "\n",
    "trainSetSplit = trainSet[:2263]\n",
    "testSetSplit = trainSet[2263:]\n",
    "##print trainSetSplit.shape ## CODE FOR 70 TO 30 SPLIT\n",
    "##print testSetSplit.shape ## TRAINING SET IS 70 PERCENT, TESTING SET IS 30 PERCENT\n",
    "\n",
    "\n",
    "\n",
    "\n",
    "\n",
    "\n",
    "##CODE NEEDED FOR NUMBERS FOR EACH LANGUAGE, USING SWITCH CASE REFERENCE THE KAGGLE KERNEL CALLED FILM RECCOMENDATION ENGINE\n",
    "##CODE NEEDED FOR PARSING THE RELEASE DATE REPLACE DATE WITH VALUE CORRESPONDING TO MONTH NUMBER\n",
    "\n",
    "##print trainSet['adult']\n",
    "##print trainSet\n",
    "\n",
    "\n",
    "\n",
    "#print trainSet['belongs_to_collection']\n",
    "\n",
    "\n",
    "\n",
    "\n"
   ]
  },
  {
   "cell_type": "code",
   "execution_count": 7,
   "metadata": {
    "collapsed": true
   },
   "outputs": [],
   "source": [
    "trainSet.to_csv('data/SuperCleanMov.csv')"
   ]
  },
  {
   "cell_type": "code",
   "execution_count": null,
   "metadata": {
    "collapsed": true
   },
   "outputs": [],
   "source": []
  }
 ],
 "metadata": {
  "kernelspec": {
   "display_name": "Python 2",
   "language": "python",
   "name": "python2"
  },
  "language_info": {
   "codemirror_mode": {
    "name": "ipython",
    "version": 2
   },
   "file_extension": ".py",
   "mimetype": "text/x-python",
   "name": "python",
   "nbconvert_exporter": "python",
   "pygments_lexer": "ipython2",
   "version": "2.7.14"
  }
 },
 "nbformat": 4,
 "nbformat_minor": 2
}

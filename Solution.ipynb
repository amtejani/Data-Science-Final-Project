{
 "cells": [
  {
   "cell_type": "code",
   "execution_count": 1,
   "metadata": {},
   "outputs": [
    {
     "name": "stderr",
     "output_type": "stream",
     "text": [
      "C:\\Users\\Pratyush\\Anaconda2\\lib\\site-packages\\sklearn\\cross_validation.py:41: DeprecationWarning: This module was deprecated in version 0.18 in favor of the model_selection module into which all the refactored classes and functions are moved. Also note that the interface of the new CV iterators are different from that of this module. This module will be removed in 0.20.\n",
      "  \"This module will be removed in 0.20.\", DeprecationWarning)\n",
      "C:\\Users\\Pratyush\\Anaconda2\\lib\\site-packages\\sklearn\\grid_search.py:42: DeprecationWarning: This module was deprecated in version 0.18 in favor of the model_selection module into which all the refactored classes and functions are moved. This module will be removed in 0.20.\n",
      "  DeprecationWarning)\n"
     ]
    }
   ],
   "source": [
    "import pandas as pd\n",
    "import numpy as np\n",
    "import matplotlib.pyplot as plt\n",
    "import numpy.linalg as la\n",
    "import itertools\n",
    "import xgboost as xgb\n",
    "from sklearn.linear_model import LinearRegression\n",
    "from sklearn.linear_model import Ridge\n",
    "from sklearn.discriminant_analysis import LinearDiscriminantAnalysis\n",
    "from sklearn.cross_validation import *\n",
    "from sklearn.grid_search import GridSearchCV"
   ]
  },
  {
   "cell_type": "code",
   "execution_count": 19,
   "metadata": {},
   "outputs": [
    {
     "name": "stdout",
     "output_type": "stream",
     "text": [
      "0       0.0\n",
      "1       0.0\n",
      "2       0.0\n",
      "3       0.0\n",
      "4       0.0\n",
      "5       1.0\n",
      "6       0.0\n",
      "7       0.0\n",
      "8       0.0\n",
      "9       1.0\n",
      "10      0.0\n",
      "11      0.0\n",
      "12      1.0\n",
      "13      0.0\n",
      "14      0.0\n",
      "15      0.0\n",
      "16      0.0\n",
      "17      0.0\n",
      "18      1.0\n",
      "19      0.0\n",
      "20      0.0\n",
      "21      0.0\n",
      "22      0.0\n",
      "23      0.0\n",
      "24      0.0\n",
      "25      0.0\n",
      "26      0.0\n",
      "27      0.0\n",
      "28      0.0\n",
      "29      0.0\n",
      "       ... \n",
      "3204    0.0\n",
      "3205    0.0\n",
      "3206    0.0\n",
      "3207    0.0\n",
      "3208    0.0\n",
      "3209    0.0\n",
      "3210    0.0\n",
      "3211    0.0\n",
      "3212    0.0\n",
      "3213    0.0\n",
      "3214    0.0\n",
      "3215    0.0\n",
      "3216    0.0\n",
      "3217    0.0\n",
      "3218    0.0\n",
      "3219    0.0\n",
      "3220    0.0\n",
      "3221    0.0\n",
      "3222    0.0\n",
      "3223    0.0\n",
      "3224    0.0\n",
      "3225    0.0\n",
      "3226    0.0\n",
      "3227    0.0\n",
      "3228    0.0\n",
      "3229    0.0\n",
      "3230    0.0\n",
      "3231    0.0\n",
      "3232    0.0\n",
      "3233    0.0\n",
      "Name: belongs_to_collection, Length: 3234, dtype: float64\n"
     ]
    }
   ],
   "source": [
    "trainSet = pd.read_csv('data/mov-cleaned.csv')\n",
    "##testSet \n",
    "\n",
    "y = trainSet['vote_average']\n",
    "##print y\n",
    "##trainSet.head()\n",
    "##z = trainSet['belongs_to_collection']\n",
    "##print z\n",
    "\n",
    "\n",
    "\n",
    "trainSet['belongs_to_collection'] = trainSet['belongs_to_collection'].fillna(0)\n",
    "trainSet = trainSet.dropdataSet.drop(['Y'], axis=1)\n",
    "\n",
    "print trainSet['belongs_to_collection']\n",
    "\n",
    "\n",
    "\n",
    "\n"
   ]
  },
  {
   "cell_type": "code",
   "execution_count": null,
   "metadata": {
    "collapsed": true
   },
   "outputs": [],
   "source": []
  }
 ],
 "metadata": {
  "kernelspec": {
   "display_name": "Python 2",
   "language": "python",
   "name": "python2"
  },
  "language_info": {
   "codemirror_mode": {
    "name": "ipython",
    "version": 2
   },
   "file_extension": ".py",
   "mimetype": "text/x-python",
   "name": "python",
   "nbconvert_exporter": "python",
   "pygments_lexer": "ipython2",
   "version": "2.7.14"
  }
 },
 "nbformat": 4,
 "nbformat_minor": 2
}

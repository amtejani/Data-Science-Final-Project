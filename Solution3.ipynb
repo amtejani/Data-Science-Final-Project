{
 "cells": [
  {
   "cell_type": "code",
   "execution_count": 1,
   "metadata": {},
   "outputs": [
    {
     "name": "stderr",
     "output_type": "stream",
     "text": [
      "C:\\Users\\Ali\\Anaconda2\\lib\\site-packages\\sklearn\\cross_validation.py:44: DeprecationWarning: This module was deprecated in version 0.18 in favor of the model_selection module into which all the refactored classes and functions are moved. Also note that the interface of the new CV iterators are different from that of this module. This module will be removed in 0.20.\n",
      "  \"This module will be removed in 0.20.\", DeprecationWarning)\n",
      "C:\\Users\\Ali\\Anaconda2\\lib\\site-packages\\sklearn\\grid_search.py:43: DeprecationWarning: This module was deprecated in version 0.18 in favor of the model_selection module into which all the refactored classes and functions are moved. This module will be removed in 0.20.\n",
      "  DeprecationWarning)\n"
     ]
    }
   ],
   "source": [
    "import pandas as pd\n",
    "import json\n",
    "import numpy as np\n",
    "import matplotlib.pyplot as plt\n",
    "import numpy.linalg as la\n",
    "import itertools\n",
    "import xgboost as xgb\n",
    "from pandas import Series\n",
    "import matplotlib.pyplot as plt\n",
    "import seaborn as sns\n",
    "%matplotlib inline\n",
    "from sklearn.preprocessing import StandardScaler\n",
    "from sklearn.linear_model import LinearRegression\n",
    "from sklearn.linear_model import Ridge\n",
    "from sklearn.discriminant_analysis import LinearDiscriminantAnalysis\n",
    "from sklearn.cross_validation import *\n",
    "from sklearn.grid_search import GridSearchCV"
   ]
  },
  {
   "cell_type": "code",
   "execution_count": 33,
   "metadata": {
    "collapsed": true
   },
   "outputs": [],
   "source": [
    "trainSet = pd.read_csv('data/movies_with_image_features.csv')\n",
    "\n",
    "X = trainSet.set_index('id')"
   ]
  },
  {
   "cell_type": "code",
   "execution_count": 34,
   "metadata": {},
   "outputs": [
    {
     "ename": "KeyboardInterrupt",
     "evalue": "",
     "output_type": "error",
     "traceback": [
      "\u001b[1;31m---------------------------------------------------------------------------\u001b[0m",
      "\u001b[1;31mKeyboardInterrupt\u001b[0m                         Traceback (most recent call last)",
      "\u001b[1;32m<ipython-input-34-e26028a1d746>\u001b[0m in \u001b[0;36m<module>\u001b[1;34m()\u001b[0m\n\u001b[1;32m----> 1\u001b[1;33m \u001b[0mcorr_mat\u001b[0m\u001b[1;33m=\u001b[0m\u001b[0mX\u001b[0m\u001b[1;33m.\u001b[0m\u001b[0mcorr\u001b[0m\u001b[1;33m(\u001b[0m\u001b[0mmethod\u001b[0m\u001b[1;33m=\u001b[0m\u001b[1;34m'pearson'\u001b[0m\u001b[1;33m)\u001b[0m\u001b[1;33m\u001b[0m\u001b[0m\n\u001b[0m\u001b[0;32m      2\u001b[0m \u001b[0mplt\u001b[0m\u001b[1;33m.\u001b[0m\u001b[0mfigure\u001b[0m\u001b[1;33m(\u001b[0m\u001b[0mfigsize\u001b[0m\u001b[1;33m=\u001b[0m\u001b[1;33m(\u001b[0m\u001b[1;36m20\u001b[0m\u001b[1;33m,\u001b[0m\u001b[1;36m10\u001b[0m\u001b[1;33m)\u001b[0m\u001b[1;33m)\u001b[0m\u001b[1;33m\u001b[0m\u001b[0m\n\u001b[0;32m      3\u001b[0m \u001b[0msns\u001b[0m\u001b[1;33m.\u001b[0m\u001b[0mheatmap\u001b[0m\u001b[1;33m(\u001b[0m\u001b[0mcorr_mat\u001b[0m\u001b[1;33m,\u001b[0m\u001b[0mvmax\u001b[0m\u001b[1;33m=\u001b[0m\u001b[1;36m1\u001b[0m\u001b[1;33m,\u001b[0m\u001b[0msquare\u001b[0m\u001b[1;33m=\u001b[0m\u001b[0mTrue\u001b[0m\u001b[1;33m,\u001b[0m\u001b[0mannot\u001b[0m\u001b[1;33m=\u001b[0m\u001b[0mTrue\u001b[0m\u001b[1;33m,\u001b[0m\u001b[0mcmap\u001b[0m\u001b[1;33m=\u001b[0m\u001b[1;34m'cubehelix'\u001b[0m\u001b[1;33m)\u001b[0m\u001b[1;33m\u001b[0m\u001b[0m\n",
      "\u001b[1;32mC:\\Users\\Ali\\Anaconda2\\lib\\site-packages\\pandas\\core\\frame.pyc\u001b[0m in \u001b[0;36mcorr\u001b[1;34m(self, method, min_periods)\u001b[0m\n\u001b[0;32m   4938\u001b[0m \u001b[1;33m\u001b[0m\u001b[0m\n\u001b[0;32m   4939\u001b[0m         \u001b[1;32mif\u001b[0m \u001b[0mmethod\u001b[0m \u001b[1;33m==\u001b[0m \u001b[1;34m'pearson'\u001b[0m\u001b[1;33m:\u001b[0m\u001b[1;33m\u001b[0m\u001b[0m\n\u001b[1;32m-> 4940\u001b[1;33m             \u001b[0mcorrel\u001b[0m \u001b[1;33m=\u001b[0m \u001b[0mlibalgos\u001b[0m\u001b[1;33m.\u001b[0m\u001b[0mnancorr\u001b[0m\u001b[1;33m(\u001b[0m\u001b[0m_ensure_float64\u001b[0m\u001b[1;33m(\u001b[0m\u001b[0mmat\u001b[0m\u001b[1;33m)\u001b[0m\u001b[1;33m,\u001b[0m \u001b[0mminp\u001b[0m\u001b[1;33m=\u001b[0m\u001b[0mmin_periods\u001b[0m\u001b[1;33m)\u001b[0m\u001b[1;33m\u001b[0m\u001b[0m\n\u001b[0m\u001b[0;32m   4941\u001b[0m         \u001b[1;32melif\u001b[0m \u001b[0mmethod\u001b[0m \u001b[1;33m==\u001b[0m \u001b[1;34m'spearman'\u001b[0m\u001b[1;33m:\u001b[0m\u001b[1;33m\u001b[0m\u001b[0m\n\u001b[0;32m   4942\u001b[0m             correl = libalgos.nancorr_spearman(_ensure_float64(mat),\n",
      "\u001b[1;31mKeyboardInterrupt\u001b[0m: "
     ]
    }
   ],
   "source": [
    "corr_mat=X.corr(method='pearson')\n",
    "plt.figure(figsize=(20,10))\n",
    "sns.heatmap(corr_mat,vmax=1,square=True,annot=True,cmap='cubehelix')"
   ]
  },
  {
   "cell_type": "code",
   "execution_count": 35,
   "metadata": {
    "collapsed": true
   },
   "outputs": [],
   "source": [
    "X_train = np.asarray(X.values)\n",
    "X_std=StandardScaler().fit_transform(X_train)"
   ]
  },
  {
   "cell_type": "code",
   "execution_count": 39,
   "metadata": {},
   "outputs": [
    {
     "data": {
      "text/plain": [
       "<matplotlib.text.Text at 0x118a5c50>"
      ]
     },
     "execution_count": 39,
     "metadata": {},
     "output_type": "execute_result"
    },
    {
     "data": {
      "image/png": "[encoded data removed]",
      "text/plain": [
       "<matplotlib.figure.Figure at 0x14468898>"
      ]
     },
     "metadata": {},
     "output_type": "display_data"
    }
   ],
   "source": [
    "from sklearn.decomposition import PCA\n",
    "pca = PCA().fit(X_std)\n",
    "plt.plot(np.cumsum(pca.explained_variance_ratio_))\n",
    "plt.xlim(0,300,10)\n",
    "plt.xlabel('Number of components')\n",
    "plt.ylabel('Cumulative explained variance')"
   ]
  },
  {
   "cell_type": "code",
   "execution_count": 40,
   "metadata": {
    "collapsed": true
   },
   "outputs": [],
   "source": [
    "sklearn_pca=PCA(n_components=300)\n",
    "X_train=sklearn_pca.fit_transform(X_std)"
   ]
  },
  {
   "cell_type": "code",
   "execution_count": 41,
   "metadata": {
    "collapsed": true
   },
   "outputs": [],
   "source": [
    "y = trainSet['vote_average']\n",
    "X = X_train\n",
    "\n",
    "train_X, test_X, train_y, test_y = train_test_split(X,y,test_size=.33,random_state=12)"
   ]
  },
  {
   "cell_type": "code",
   "execution_count": 42,
   "metadata": {
    "collapsed": true
   },
   "outputs": [],
   "source": [
    "from sklearn.linear_model import RidgeCV, ElasticNetCV\n",
    "from sklearn.metrics import mean_squared_error\n",
    "from sklearn.model_selection import GridSearchCV"
   ]
  },
  {
   "cell_type": "code",
   "execution_count": 44,
   "metadata": {},
   "outputs": [
    {
     "name": "stdout",
     "output_type": "stream",
     "text": [
      "5000.0\n",
      "0.192731645647\n",
      "1.75396283749\n"
     ]
    }
   ],
   "source": [
    "alphas = [0.01, 0.05, 0.1, 0.3, 1, 3, 5, 10, 15, 30, 50, 75, 100, 200, 1000, 5000,10000]\n",
    "r_cv = RidgeCV(alphas=alphas)\n",
    "r_cv.fit(train_X,train_y)\n",
    "print r_cv.alpha_\n",
    "print r_cv.score(test_X,test_y)\n",
    "print mean_squared_error(test_y,r_cv.predict(test_X))"
   ]
  },
  {
   "cell_type": "code",
   "execution_count": 45,
   "metadata": {},
   "outputs": [
    {
     "name": "stdout",
     "output_type": "stream",
     "text": [
      "0.1\n",
      "0.7\n",
      "0.148080857074\n",
      "1.85097620783\n"
     ]
    }
   ],
   "source": [
    "l1_ratio = [.1, .5, .7, .9, .95, .99, 1]\n",
    "en_cv = ElasticNetCV(alphas=alphas,l1_ratio=l1_ratio)\n",
    "en_cv.fit(train_X,train_y)\n",
    "print en_cv.alpha_\n",
    "print en_cv.l1_ratio_\n",
    "print en_cv.score(test_X,test_y)\n",
    "print mean_squared_error(test_y,en_cv.predict(test_X))"
   ]
  },
  {
   "cell_type": "code",
   "execution_count": 46,
   "metadata": {
    "collapsed": true
   },
   "outputs": [],
   "source": [
    "from sklearn.neighbors import KNeighborsRegressor"
   ]
  },
  {
   "cell_type": "code",
   "execution_count": 47,
   "metadata": {
    "collapsed": true
   },
   "outputs": [],
   "source": [
    "knn = GridSearchCV(KNeighborsRegressor(),dict(n_neighbors=np.arange(1,5)),cv=5,scoring='neg_mean_squared_error')"
   ]
  },
  {
   "cell_type": "code",
   "execution_count": 48,
   "metadata": {},
   "outputs": [
    {
     "name": "stdout",
     "output_type": "stream",
     "text": [
      "-2.55803936464\n",
      "2.55803936464\n"
     ]
    }
   ],
   "source": [
    "knn.fit(train_X,train_y)\n",
    "print knn.score(test_X,test_y)\n",
    "print mean_squared_error(test_y,knn.predict(test_X))"
   ]
  },
  {
   "cell_type": "code",
   "execution_count": 49,
   "metadata": {
    "collapsed": true
   },
   "outputs": [],
   "source": [
    "from sklearn.tree import DecisionTreeRegressor"
   ]
  },
  {
   "cell_type": "code",
   "execution_count": 50,
   "metadata": {
    "collapsed": true
   },
   "outputs": [],
   "source": [
    "dtree = GridSearchCV(DecisionTreeRegressor(), dict(min_samples_split=[4,16,64,256,1024],min_samples_leaf=[4,16,64,256,1024],splitter=['best','random']),cv=5,scoring='neg_mean_squared_error')"
   ]
  },
  {
   "cell_type": "code",
   "execution_count": 51,
   "metadata": {},
   "outputs": [
    {
     "name": "stdout",
     "output_type": "stream",
     "text": [
      "-2.17870237475\n",
      "2.17870237475\n"
     ]
    }
   ],
   "source": [
    "dtree.fit(train_X,train_y)\n",
    "print dtree.score(test_X,test_y)\n",
    "print mean_squared_error(test_y,dtree.predict(test_X))"
   ]
  },
  {
   "cell_type": "code",
   "execution_count": 52,
   "metadata": {
    "collapsed": true
   },
   "outputs": [],
   "source": [
    "from xgboost import XGBRegressor"
   ]
  },
  {
   "cell_type": "code",
   "execution_count": 53,
   "metadata": {
    "collapsed": true
   },
   "outputs": [],
   "source": [
    "# xgb1 = XGBRegressor(learning_rate=0.1,n_estimators=1000,max_depth=5,min_child_weight=1,gamma=0,subsample=0.8,colsample_bytree=0.8,objective='reg:linear',scale_pos_weight=1,seed=1)\n",
    "# def fit(xgb1,trainX,trainY):\n",
    "#     param = xgb1.get_params()\n",
    "#     xgbtrain = xgb.DMatrix(trainX,label=trainY.values)\n",
    "#     cv = xgb.cv(param,xgbtrain,num_boost_round=param['n_estimators'],nfold=5,metrics='mse', early_stopping_rounds=50)\n",
    "#     xgb1.set_params(n_estimators=cv.shape[0])\n",
    "#     xgb1.fit(trainX,trainY,eval_metric='mse')"
   ]
  },
  {
   "cell_type": "code",
   "execution_count": 56,
   "metadata": {},
   "outputs": [
    {
     "name": "stdout",
     "output_type": "stream",
     "text": [
      "{'max_depth': 3, 'min_child_weight': 5} -1.9849288671\n",
      "-1.92904052707\n",
      "1.92904052707\n"
     ]
    }
   ],
   "source": [
    "xgb2 = GridSearchCV(estimator = XGBRegressor( learning_rate=0.1, n_estimators=140, max_depth=5,\n",
    " min_child_weight=2, gamma=0, subsample=0.8, colsample_bytree=0.8,\n",
    " objective= 'reg:linear', nthread=4,scale_pos_weight=1,seed=27), \n",
    " param_grid = dict(max_depth=range(2,5),min_child_weight=range(4,7)), scoring='neg_mean_squared_error',iid=False, cv=5)\n",
    "xgb2.fit(train_X,train_y)\n",
    "print xgb2.best_params_, xgb2.best_score_\n",
    "print xgb2.score(test_X,test_y)\n",
    "print mean_squared_error(test_y,xgb2.predict(test_X))"
   ]
  },
  {
   "cell_type": "code",
   "execution_count": 57,
   "metadata": {},
   "outputs": [
    {
     "name": "stdout",
     "output_type": "stream",
     "text": [
      "{'gamma': 0.6} -1.98484637712\n",
      "1.92904052707\n"
     ]
    }
   ],
   "source": [
    "xgb3 = GridSearchCV(estimator = XGBRegressor( learning_rate=0.1, n_estimators=140, max_depth=3,\n",
    " min_child_weight=5, gamma=0, subsample=0.8, colsample_bytree=0.8,\n",
    " objective= 'reg:linear', scale_pos_weight=1,seed=27), \n",
    " param_grid = dict(gamma=[i/10.0 for i in range(5,8)]), scoring='neg_mean_squared_error',iid=False, cv=5)\n",
    "xgb3.fit(train_X,train_y)\n",
    "print xgb3.best_params_, xgb3.best_score_\n",
    "print mean_squared_error(test_y,xgb3.predict(test_X))"
   ]
  },
  {
   "cell_type": "code",
   "execution_count": 58,
   "metadata": {},
   "outputs": [
    {
     "name": "stdout",
     "output_type": "stream",
     "text": [
      "{'subsample': 0.7, 'colsample_bytree': 0.6} -1.99006326412\n",
      "1.97607397071\n"
     ]
    }
   ],
   "source": [
    "xgb4 = GridSearchCV(estimator = XGBRegressor( learning_rate=0.1, n_estimators=140, max_depth=3,\n",
    " min_child_weight=5, gamma=0.6, subsample=0.8, colsample_bytree=0.8,\n",
    " objective= 'reg:linear', scale_pos_weight=1,seed=27), \n",
    " param_grid = dict(subsample=[i/10.0 for i in range(4,8)],colsample_bytree=[i/10.0 for i in range(6,10)]), \n",
    " scoring='neg_mean_squared_error',iid=False, cv=5)\n",
    "xgb4.fit(train_X,train_y)\n",
    "print xgb4.best_params_, xgb4.best_score_\n",
    "print mean_squared_error(test_y,xgb4.predict(test_X))"
   ]
  },
  {
   "cell_type": "code",
   "execution_count": 59,
   "metadata": {},
   "outputs": [
    {
     "name": "stdout",
     "output_type": "stream",
     "text": [
      "{'subsample': 0.7, 'colsample_bytree': 0.6} -1.99006326412\n",
      "1.97607397071\n"
     ]
    }
   ],
   "source": [
    "xgb5 = GridSearchCV(estimator = XGBRegressor( learning_rate=0.1, n_estimators=140, max_depth=3,\n",
    " min_child_weight=5, gamma=0.6, subsample=0.5, colsample_bytree=0.8,\n",
    " objective= 'reg:linear', scale_pos_weight=1,seed=27), \n",
    " param_grid = dict(subsample=[i/100.0 for i in range(65,80,5)],colsample_bytree=[i/100.0 for i in range(55,70,5)]), \n",
    " scoring='neg_mean_squared_error',iid=False, cv=5)\n",
    "xgb5.fit(train_X,train_y)\n",
    "print xgb5.best_params_, xgb5.best_score_\n",
    "print mean_squared_error(test_y,xgb5.predict(test_X))"
   ]
  },
  {
   "cell_type": "code",
   "execution_count": 60,
   "metadata": {},
   "outputs": [
    {
     "name": "stdout",
     "output_type": "stream",
     "text": [
      "{'reg_alpha': 1, 'reg_lambda': 0.1} -1.9587044495\n",
      "1.9567197122\n"
     ]
    }
   ],
   "source": [
    "xgb6 = GridSearchCV(estimator = XGBRegressor( learning_rate=0.1, n_estimators=140, max_depth=3,\n",
    " min_child_weight=5, gamma=0.6, subsample=0.7, colsample_bytree=0.6,\n",
    " objective= 'reg:linear', scale_pos_weight=1,seed=27), \n",
    " param_grid = dict(reg_alpha=[1e-5, 1e-2, 0.1, 1, 100],reg_lambda=[1e-5, 1e-2, 0.1, 1, 100]), \n",
    " scoring='neg_mean_squared_error',iid=False, cv=5)\n",
    "xgb6.fit(train_X,train_y)\n",
    "print xgb6.best_params_, xgb6.best_score_\n",
    "print mean_squared_error(test_y,xgb6.predict(test_X))"
   ]
  },
  {
   "cell_type": "code",
   "execution_count": 61,
   "metadata": {},
   "outputs": [
    {
     "name": "stdout",
     "output_type": "stream",
     "text": [
      "{'reg_alpha': 1, 'reg_lambda': 0.1} -1.9587044495\n",
      "1.9567197122\n"
     ]
    }
   ],
   "source": [
    "xgb7 = GridSearchCV(estimator = XGBRegressor( learning_rate=0.1, n_estimators=140, max_depth=3,\n",
    " min_child_weight=5, gamma=0.6, subsample=0.7, colsample_bytree=0.6,\n",
    " objective= 'reg:linear', scale_pos_weight=1,seed=27), \n",
    " param_grid = dict(reg_alpha=[0, .1,1,10],reg_lambda=[0, 1e-2,1e-1,1]), \n",
    " scoring='neg_mean_squared_error',iid=False, cv=5)\n",
    "xgb7.fit(train_X,train_y)\n",
    "print xgb7.best_params_, xgb7.best_score_\n",
    "print mean_squared_error(test_y,xgb7.predict(test_X))"
   ]
  },
  {
   "cell_type": "code",
   "execution_count": 62,
   "metadata": {},
   "outputs": [
    {
     "name": "stdout",
     "output_type": "stream",
     "text": [
      "0.968942577013\n",
      "1.84987151759\n"
     ]
    }
   ],
   "source": [
    "xgb8 = XGBRegressor( learning_rate=0.01, n_estimators=5000, max_depth=3,\n",
    " min_child_weight=5, gamma=0.6, subsample=0.7, colsample_bytree=0.6,\n",
    " reg_alpha=1,reg_lambda=.1,\n",
    " objective= 'reg:linear', scale_pos_weight=1)\n",
    "# fit(xgb8,train_X,train_y)\n",
    "xgb8.fit(train_X,train_y)\n",
    "print xgb8.score(train_X,train_y)\n",
    "print mean_squared_error(test_y,xgb8.predict(test_X))"
   ]
  },
  {
   "cell_type": "code",
   "execution_count": 63,
   "metadata": {},
   "outputs": [
    {
     "data": {
      "text/plain": [
       "1.8498715175870151"
      ]
     },
     "execution_count": 63,
     "metadata": {},
     "output_type": "execute_result"
    }
   ],
   "source": [
    "preds = np.array(xgb8.predict(test_X))\n",
    "mean_squared_error(test_y,preds)"
   ]
  },
  {
   "cell_type": "code",
   "execution_count": 64,
   "metadata": {
    "collapsed": true
   },
   "outputs": [],
   "source": [
    "pred = pd.DataFrame(preds,index = test_y.index,columns=['prediction'])"
   ]
  },
  {
   "cell_type": "code",
   "execution_count": 65,
   "metadata": {
    "collapsed": true
   },
   "outputs": [],
   "source": [
    "out = pd.concat((pred,test_y),axis=1)\n",
    "out.to_csv('data/predictions4.csv')"
   ]
  },
  {
   "cell_type": "code",
   "execution_count": 29,
   "metadata": {},
   "outputs": [
    {
     "name": "stdout",
     "output_type": "stream",
     "text": [
      "R0: 0.992196435524\n",
      "R0: 0.945741092899\n",
      "R1: 0.992235229955\n",
      "R1: 0.948443803163\n",
      "R2: 0.992329327706\n",
      "R2: 0.937319532393\n",
      "R3: 0.992266152093\n",
      "R3: 0.966963939106\n",
      "R4: 0.992184522311\n",
      "R4: 0.93446257051\n",
      "R5: 0.992317590254\n",
      "R5: 0.94699663854\n",
      "R6: 0.992279615938\n",
      "R6: 0.940243603897\n",
      "R7: 0.992255004221\n",
      "R7: 0.951063955963\n",
      "R8: 0.992217741315\n",
      "R8: 0.945246414856\n",
      "R9: 0.992249482092\n",
      "R9: 0.950922479742\n",
      "R10: 0.992215724846\n",
      "R10: 0.947276227882\n",
      "R11: 0.992235552283\n",
      "R11: 0.942383423452\n",
      "R12: 0.992255257785\n",
      "R12: 0.940512859478\n",
      "R13: 0.99221303332\n",
      "R13: 0.929386194273\n",
      "R14: 0.992308084381\n",
      "R14: 0.947533926131\n",
      "R15: 0.992256344326\n",
      "R15: 0.944568696513\n",
      "R16: 0.992222797376\n",
      "R16: 0.960485952462\n",
      "R17: 0.992283516397\n",
      "R17: 0.937703279671\n",
      "R18: 0.992245567723\n",
      "R18: 0.943280051435\n",
      "R19: 0.99223788137\n",
      "R19: 0.963977002303\n",
      "R20: 0.992262077887\n",
      "R20: 0.935197262007\n",
      "R21: 0.992256161588\n",
      "R21: 0.947468721716\n",
      "R22: 0.992231461889\n",
      "R22: 0.93871963719\n",
      "R23: 0.992269738618\n",
      "R23: 0.942495329102\n",
      "R24: 0.992276129794\n",
      "R24: 0.959476163413\n",
      "R25: 0.992240997302\n",
      "R25: 0.943901635387\n",
      "R26: 0.992214922197\n",
      "R26: 0.947339793355\n",
      "R27: 0.992273669705\n",
      "R27: 0.93902426987\n",
      "R28: 0.992212915015\n",
      "R28: 0.954217984704\n",
      "R29: 0.992226672388\n",
      "R29: 0.931106919066\n",
      "R30: 0.992222272017\n",
      "R30: 0.924078063995\n",
      "R31: 0.99221466246\n",
      "R31: 0.955728173039\n",
      "R32: 0.992278483523\n",
      "R32: 0.938135249335\n",
      "R33: 0.992234177444\n",
      "R33: 0.941344327227\n",
      "R34: 0.992225319633\n",
      "R34: 0.932800214795\n",
      "R35: 0.99222246355\n",
      "R35: 0.960774016947\n",
      "R36: 0.992229481711\n",
      "R36: 0.934643252429\n",
      "R37: 0.992135560809\n",
      "R37: 0.920383412291\n",
      "R38: 0.992222651675\n",
      "R38: 0.935812160123\n",
      "R39: 0.992261955932\n",
      "R39: 0.944035710522\n",
      "R40: 0.992221573365\n",
      "R40: 0.946771179337\n",
      "R41: 0.992248731835\n",
      "R41: 0.972883755822\n",
      "R42: 0.992236666337\n",
      "R42: 0.943101677021\n",
      "R43: 0.992248297933\n",
      "R43: 0.945306392185\n",
      "R44: 0.992225857707\n",
      "R44: 0.945370173421\n",
      "R45: 0.992236386421\n",
      "R45: 0.943232896682\n",
      "R46: 0.992169850238\n",
      "R46: 0.952348165501\n",
      "R47: 0.992236542196\n",
      "R47: 0.954077988648\n",
      "R48: 0.992212761776\n",
      "R48: 0.961008896534\n",
      "R49: 0.99229222363\n",
      "R49: 0.934736008731\n"
     ]
    }
   ],
   "source": [
    "preds = []\n",
    "for i in range(50):\n",
    "    xgb8 = XGBRegressor( learning_rate=0.01, n_estimators=5000, max_depth=3,\n",
    "     min_child_weight=5, gamma=0.6, subsample=0.7, colsample_bytree=0.6,\n",
    "     reg_alpha=1,reg_lambda=.1, seed=i,\n",
    "     objective= 'reg:linear', scale_pos_weight=1)\n",
    "    # fit(xgb8,train_X,train_y)\n",
    "    xgb8.fit(train_X,train_y)\n",
    "    print 'R{}:'.format(i),xgb8.score(train_X,train_y)\n",
    "    p = xgb8.predict(test_X)\n",
    "    print 'R{}:'.format(i),mean_squared_error(test_y,p)\n",
    "    preds.append(p)"
   ]
  },
  {
   "cell_type": "code",
   "execution_count": 38,
   "metadata": {},
   "outputs": [
    {
     "data": {
      "text/plain": [
       "0.93312691776069656"
      ]
     },
     "execution_count": 38,
     "metadata": {},
     "output_type": "execute_result"
    }
   ],
   "source": [
    "preds = np.array(preds)\n",
    "mean_squared_error(test_y,preds.mean(axis=0))"
   ]
  },
  {
   "cell_type": "code",
   "execution_count": 56,
   "metadata": {
    "collapsed": true
   },
   "outputs": [],
   "source": [
    "pred = pd.DataFrame(preds.mean(axis=0),index = test_y.index,columns=['prediction'])"
   ]
  },
  {
   "cell_type": "code",
   "execution_count": 58,
   "metadata": {
    "collapsed": true
   },
   "outputs": [],
   "source": [
    "out = pd.concat((pred,test_y),axis=1)\n",
    "out.to_csv('data/predictions5.csv')"
   ]
  },
  {
   "cell_type": "code",
   "execution_count": 66,
   "metadata": {},
   "outputs": [
    {
     "data": {
      "text/plain": [
       "<matplotlib.text.Text at 0xc406828>"
      ]
     },
     "execution_count": 66,
     "metadata": {},
     "output_type": "execute_result"
    },
    {
     "data": {
      "image/png": "[encoded data removed]",
      "text/plain": [
       "<matplotlib.figure.Figure at 0x14431898>"
      ]
     },
     "metadata": {},
     "output_type": "display_data"
    }
   ],
   "source": [
    "plt.scatter(test_y,pred)\n",
    "plt.xlabel('True') \n",
    "plt.ylabel('Predicted') "
   ]
  }
 ],
 "metadata": {
  "kernelspec": {
   "display_name": "Python 2",
   "language": "python",
   "name": "python2"
  },
  "language_info": {
   "codemirror_mode": {
    "name": "ipython",
    "version": 2
   },
   "file_extension": ".py",
   "mimetype": "text/x-python",
   "name": "python",
   "nbconvert_exporter": "python",
   "pygments_lexer": "ipython2",
   "version": "2.7.13"
  }
 },
 "nbformat": 4,
 "nbformat_minor": 2
}
